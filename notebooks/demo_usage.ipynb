{
 "cells": [
  {
   "cell_type": "markdown",
   "metadata": {},
   "source": [
    "# 🎬 Netflix-Style Recommender Demo\n",
    "\n",
    "This notebook demonstrates how to use the `HybridRecommender` model to generate movie recommendations for a user."
   ]
  },
  {
   "cell_type": "code",
   "execution_count": null,
   "metadata": {},
   "outputs": [],
   "source": [
    "# Imports\n",
    "from assistant.hybrid_recommender import HybridRecommender\n",
    "import matplotlib.pyplot as plt"
   ]
  },
  {
   "cell_type": "code",
   "execution_count": null,
   "metadata": {},
   "outputs": [],
   "source": [
    "# Initialize Recommender\n",
    "recommender = HybridRecommender()\n",
    "user_id = 2\n",
    "recommendations = recommender.recommend(user_id=user_id, top_n=10, alpha=0.6)\n",
    "print(f\"Recommendations for user {user_id}: {recommendations}\")"
   ]
  },
  {
   "cell_type": "markdown",
   "metadata": {},
   "source": [
    "## 📊 Visualizing Recommendations"
   ]
  },
  {
   "cell_type": "code",
   "execution_count": null,
   "metadata": {},
   "outputs": [],
   "source": [
    "# Mock Movie Names (replace with real data if available)\n",
    "movie_names = [f\"Movie {mid}\" for mid in recommendations]\n",
    "\n",
    "plt.figure(figsize=(10, 5))\n",
    "plt.barh(movie_names, range(len(movie_names), 0, -1))\n",
    "plt.xlabel(\"Rank\")\n",
    "plt.title(f\"Top {len(movie_names)} Recommendations for User {user_id}\")\n",
    "plt.gca().invert_yaxis()\n",
    "plt.show()"
   ]
  }
 ],
 "metadata": {
  "kernelspec": {
   "display_name": "Python 3",
   "language": "python",
   "name": "python3"
  },
  "language_info": {
   "name": "python",
   "version": "3.10"
  }
 },
 "nbformat": 4,
 "nbformat_minor": 2
}
